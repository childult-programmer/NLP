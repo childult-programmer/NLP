{
 "cells": [
  {
   "cell_type": "code",
   "execution_count": 1,
   "metadata": {},
   "outputs": [],
   "source": [
    "# 필요한 모듈 및 라이브러리를 임포트\n",
    "import os\n",
    "import json\n",
    "\n",
    "import numpy\n",
    "import pandas\n",
    "\n",
    "import tensorflow as tf\n",
    "\n",
    "from tensorflow.keras.layers import Layer\n",
    "from tensorflow.keras.layers import Embedding, GRU, Dense\n",
    "from tensorflow.keras.losses import SparseCategoricalCrossentropy\n",
    "from tensorflow.keras.metrics import SparseCategoricalAccuracy\n",
    "from tensorflow.keras.models import Model\n",
    "from tensorflow.keras.callbacks import EarlyStopping, ModelCheckpoint\n",
    "\n",
    "import matplotlib.pyplot as plt\n",
    "\n",
    "from preprocess import *"
   ]
  },
  {
   "cell_type": "code",
   "execution_count": 2,
   "metadata": {},
   "outputs": [],
   "source": [
    "# 학습 시각화 함수\n",
    "def plot_graphs(history, string):\n",
    "    plt.plot(history.history[string])\n",
    "    plt.plot(history.history['val_'+string], '')\n",
    "    plt.xlabel('Epochs')\n",
    "    plt.ylabel(string)\n",
    "    plt.legend([string, 'val_'+string])\n",
    "    plt.show()"
   ]
  },
  {
   "cell_type": "code",
   "execution_count": 3,
   "metadata": {},
   "outputs": [],
   "source": [
    "# 랜덤 시드값\n",
    "SEED_NUM = 1234\n",
    "tf.random.set_seed(SEED_NUM)"
   ]
  },
  {
   "cell_type": "code",
   "execution_count": 4,
   "metadata": {},
   "outputs": [],
   "source": [
    "# 학습 데이터의 경로\n",
    "DATA_IN_PATH = './data/'\n",
    "DATA_OUT_PATH = './check_point/'\n",
    "TRAIN_INPUTS = 'train_inputs.npy'\n",
    "TRAIN_OUTPUTS = 'train_outputs.npy'\n",
    "TRAIN_TARGETS = 'train_targets.npy'\n",
    "DATA_CONFIGS = 'data_configs.json'\n",
    "\n",
    "# 미리 전처리된 학습에 필요한 데이터와 설정값을 불러옴\n",
    "index_inputs = np.load(open(DATA_IN_PATH + TRAIN_INPUTS, 'rb'))\n",
    "index_outputs = np.load(open(DATA_IN_PATH + TRAIN_OUTPUTS , 'rb'))\n",
    "index_targets = np.load(open(DATA_IN_PATH + TRAIN_TARGETS , 'rb'))\n",
    "prepro_configs = json.load(open(DATA_IN_PATH + DATA_CONFIGS, 'r'))"
   ]
  },
  {
   "cell_type": "code",
   "execution_count": 5,
   "metadata": {},
   "outputs": [],
   "source": [
    "# 모델 하이퍼파라미터\n",
    "MODEL_NAME = 'seq2seq_kr'\n",
    "BATCH_SIZE = 16\n",
    "MAX_SEQUENCE = 25\n",
    "EPOCHS = 30\n",
    "ENC_UNITS = 128\n",
    "DEC_UNITS = 128\n",
    "EMBEDDING_DIM = 64\n",
    "VALID_SPLIT = 0.1\n",
    "\n",
    "char2idx = prepro_configs['char2idx']\n",
    "idx2char = prepro_configs['idx2char']\n",
    "std_index = prepro_configs['std_symbol']\n",
    "end_index = prepro_configs['end_symbol']\n",
    "vocab_size = prepro_configs['vocab_size']"
   ]
  },
  {
   "cell_type": "code",
   "execution_count": 6,
   "metadata": {},
   "outputs": [],
   "source": [
    "# Encoder\n",
    "class Encoder(Layer):\n",
    "    def __init__(self, vocab_size, embedding_dim, enc_units, batch_size):\n",
    "        super(Encoder, self).__init__()\n",
    "        self.batch_size = batch_size\n",
    "        self.enc_units = enc_units\n",
    "        self.vocab_size = vocab_size\n",
    "        self.embedding_dim = embedding_dim\n",
    "        \n",
    "        # 단어를 emdding_dim차원의 임베딩 벡터로 만든다\n",
    "        self.embedding = Embedding(self.vocab_size, self.embedding_dim)\n",
    "        # 재귀 신경망(GRU)\n",
    "        self.gru = GRU(self.enc_units, return_sequences=True,\n",
    "                      return_state=True, recurrent_initializer='glorot_uniform')\n",
    "    \n",
    "    def call(self, x, hidden):\n",
    "        x = self.embedding(x)\n",
    "        output, state = self.gru(x, initial_state=hidden)\n",
    "        \n",
    "        return output, state\n",
    "    \n",
    "    def initialize_hidden_state(self, inp):\n",
    "        return tf.zeros((tf.shape(inp)[0], self.enc_units))"
   ]
  },
  {
   "cell_type": "code",
   "execution_count": 7,
   "metadata": {},
   "outputs": [],
   "source": [
    "# 어텐션 가중치를 이용해 디코더에 전달할 새로운 GRU의 결괏값을 만든다\n",
    "class BahdanauAttention(Layer):\n",
    "    def __init__(self, units):\n",
    "        super(BahdanauAttention, self).__init__()\n",
    "        \n",
    "        # 출력 벡터의 크기(units)를 인자로 받아 W1,W2,V의 완전 연결 계층(FC)를 만든다\n",
    "        self.W1 = Dense(units)\n",
    "        self.W2 = Dense(units)\n",
    "        self.V  = Dense(1)\n",
    "        \n",
    "    # query: Encoder GRU의 은닉층의 상태 값, values: Encoder GRU의 결괏값 \n",
    "    def call(self, query, values):\n",
    "        # query를 W2에 행렬곱을 할 수 있는 형태로 만든다\n",
    "        hidden_with_time_axis = tf.expand_dims(query, 1)\n",
    "        # W1과 W2의 결괏값의 요소를 각각 더하고 활성함수를 통과한 값을 V에 행렬곱하여 1차원의 벡터값을 만든다.\n",
    "        score = self.V(tf.nn.tanh(\n",
    "                        self.W1(values) + self.W2(hidden_with_time_axis)))\n",
    "        \n",
    "        # 이 값을 softmax에 넣어 어텐션 가중치를 얻는다\n",
    "        # attention_weights는 모델이 중요하다고 판단하는 값은 1에 가까워지고 중요하지 않다고 판단할 수록 0에 가까워지는 값\n",
    "        attention_weights = tf.nn.softmax(score, axis=1)\n",
    "        \n",
    "        # 위에서 구한 어텐션 가중치에 GRU 결괏값인 values를 행렬 곱을 하면,\n",
    "        # 1에 가까운 값에 위치한 value값(모델이 중요하다고 판단하는 값)은 커지고, 0에 가까운 값에 위치한 value값(모델이 중요치 않다고 판단하는 값)은 작아진다\n",
    "        context_vector = attention_weights * values\n",
    "        context_vector = tf.reduce_sum(context_vector, axis=1)\n",
    "        \n",
    "        return context_vector, attention_weights"
   ]
  },
  {
   "cell_type": "code",
   "execution_count": 8,
   "metadata": {},
   "outputs": [],
   "source": [
    "# Decoder\n",
    "class Decoder(Layer):\n",
    "    def __init__(self, vocab_size, embedding_dim, dec_units, batch_size):\n",
    "        super(Decoder, self).__init__()\n",
    "        \n",
    "        self.batch_size = batch_size\n",
    "        self.dec_units = dec_units\n",
    "        self.vocab_size = vocab_size\n",
    "        self.embedding_dim = embedding_dim\n",
    "        \n",
    "        self.embedding = Embedding(self.vocab_size, self.embedding_dim)\n",
    "        self.gru = GRU(self.dec_units, return_sequences=True,\n",
    "                      return_state=True, recurrent_initializer='glorot_uniform')\n",
    "        self.fc = Dense(self.vocab_size)\n",
    "        \n",
    "        self.attention = BahdanauAttention(self.dec_units)\n",
    "        \n",
    "    # hidden: Enocder의 은닉 상태 값, enc_output: Encoder의 결괏값\n",
    "    def call(self, x, hidden, enc_output):\n",
    "        context_vector, attention_weights = self.attention(hidden, enc_output)\n",
    "        \n",
    "        x = self.embedding(x)\n",
    "        \n",
    "        # 임베딩 벡터 x와 어텐션 가중치를 곱한 context_vector를 결합해 다시 x를 구성\n",
    "        x = tf.concat([tf.expand_dims(context_vector, 1), x], axis=-1)\n",
    "        \n",
    "        # GRU를 통과시한 결괏값을 완전 연결 계층(FC)에 연결해 사전 크기의 벡터 x를 만든다\n",
    "        output, state = self.gru(x)\n",
    "        output = tf.reshape(output, (-1, output.shape[2]))\n",
    "        \n",
    "        x = self.fc(output)\n",
    "        \n",
    "        return x, state, attention_weights"
   ]
  },
  {
   "cell_type": "code",
   "execution_count": 9,
   "metadata": {},
   "outputs": [],
   "source": [
    "# 손실 함수, 정확도 측정 함수\n",
    "# 최적화 객체\n",
    "optimizer = 'adam'\n",
    "# 손실 값을 측정하기 위한 객체\n",
    "loss_object = SparseCategoricalCrossentropy(from_logits=True, reduction='none')\n",
    "# 정확도 측정을 위한 객체\n",
    "train_accuracy = SparseCategoricalAccuracy(name='accuracy')\n",
    "\n",
    "# 손실 함수\n",
    "def loss(real, pred):\n",
    "    # mask= real값 중 0인 값(<PAD>)를 제외\n",
    "    mask = tf.math.logical_not(tf.math.equal(real, 0))\n",
    "    loss_ = loss_object(real, pred)\n",
    "    mask = tf.cast(mask, dtype=loss_.dtype)\n",
    "    loss_ *= mask\n",
    "    \n",
    "    return tf.reduce_mean(loss_)\n",
    "\n",
    "# 정확도 측정 함수\n",
    "def accuracy(real, pred):\n",
    "    mask = tf.math.logical_not(tf.math.equal(real, 0))\n",
    "    mask = tf.expand_dims(tf.cast(mask, dtype=pred.dtype), axis=-1)\n",
    "    pred *= mask\n",
    "    acc = train_accuracy(real, pred)\n",
    "    \n",
    "    return tf.reduce_mean(acc)"
   ]
  },
  {
   "cell_type": "code",
   "execution_count": 28,
   "metadata": {},
   "outputs": [],
   "source": [
    "# seq2seq 모델\n",
    "class seq2seq(Model):\n",
    "    def __init__(self, vocab_size, embedding_dim, enc_units, dec_units, batch_size, end_token_idx=2):\n",
    "        super(seq2seq, self).__init__()\n",
    "        self.end_token_idx = end_token_idx\n",
    "        self.encoder = Encoder(vocab_size, embedding_dim, enc_units, batch_size)\n",
    "        self.decoder = Decoder(vocab_size, embedding_dim, dec_units, batch_size)\n",
    "        \n",
    "    def call(self, x):\n",
    "        inp, tar = x\n",
    "        \n",
    "        enc_hidden = self.encoder.initialize_hidden_state(inp)\n",
    "        enc_output, enc_hidden = self.encoder(inp, enc_hidden)\n",
    "        \n",
    "        dec_hidden = enc_hidden\n",
    "        \n",
    "        # predict_tokens= 시퀀스마다 나온 결괏값, 손실 또는 정확도를 계산하는 용도로 사용\n",
    "        predict_tokens = list()\n",
    "        for t in range(0, tar.shape[1]):\n",
    "            dec_input = tf.dtypes.cast(tf.expand_dims(tar[:, t], 1), tf.float32)\n",
    "            predictions, dec_hidden, _ = self.decoder(dec_input, dec_hidden, enc_output)\n",
    "            predict_tokens.append(tf.dtypes.cast(predictions, tf.float32))\n",
    "            \n",
    "        return tf.stack(predict_tokens, axis=1)\n",
    "    \n",
    "    # 사용자의 입력에 대한 결과를 확인하기 위해, 테스트 목적의 프로토콜 함수\n",
    "    def inference(self, x):\n",
    "        inp = x\n",
    "        \n",
    "        enc_hidden = self.encoder.initialize_hidden_state(inp)\n",
    "        enc_output, enc_hidden = self.encoder(inp, enc_hidden)\n",
    "        \n",
    "        dec_hidden = enc_hidden\n",
    "        \n",
    "        dec_input = tf.expand_dims([char2idx[std_index]], 1)\n",
    "        \n",
    "        predict_tokens = list()\n",
    "        for t in range(0, MAX_SEQUENCE):\n",
    "            predictions, dec_hidden, _ = self.decoder(dec_input, dec_hidden, enc_output)\n",
    "            predict_token = tf.argmax([predictions[0]])\n",
    "            \n",
    "            # <END> 토큰을 만나면 정지, 하나의 배치에 대해서만 동작\n",
    "            if predict_token == self.end_token_idx:\n",
    "                break\n",
    "            \n",
    "            predict_tokens.append(predict_token)\n",
    "            dec_input = tf.dtypes.caast(tf.expand_dims[[predict_tolken], 0], tf.float32)\n",
    "            \n",
    "        return tf.stack(predict_tokens, axis=0).numpy()"
   ]
  },
  {
   "cell_type": "code",
   "execution_count": 11,
   "metadata": {},
   "outputs": [],
   "source": [
    "# seq2seq 모델 생성\n",
    "model = seq2seq(vocab_size, EMBEDDING_DIM, ENC_UNITS, DEC_UNITS,\n",
    "               BATCH_SIZE, char2idx[end_index])\n",
    "model.compile(loss=loss, optimizer=optimizer, metrics=[accuracy])"
   ]
  },
  {
   "cell_type": "code",
   "execution_count": 12,
   "metadata": {},
   "outputs": [
    {
     "name": "stdout",
     "output_type": "stream",
     "text": [
      "seq2seq_kr Folder is created!\n"
     ]
    }
   ],
   "source": [
    "# 모델 체크포인트를 저장하고 과적합을 방지하기 위해 조기 종료를 정의한 함수를 선언\n",
    "PATH = DATA_OUT_PATH + MODEL_NAME\n",
    "\n",
    "if os.path.isdir(PATH):\n",
    "    print(MODEL_NAME + ' Folder already exists!')\n",
    "    \n",
    "if not(os.path.isdir(PATH)):\n",
    "    os.makedirs(os.path.join(PATH))\n",
    "    print(MODEL_NAME + ' Folder is created!')\n",
    "    \n",
    "checkpoint_path = DATA_OUT_PATH + MODEL_NAME + '/weights.h5'\n",
    "\n",
    "cp_callback = ModelCheckpoint(checkpoint_path,\n",
    "                             monitor='val_accuracy', verbose=1, save_best_only=True, save_weights_only=True)\n",
    "\n",
    "earlystop_callback = EarlyStopping(monitor='val_accuracy', min_delta=0.0001, patience=10)"
   ]
  },
  {
   "cell_type": "code",
   "execution_count": 13,
   "metadata": {},
   "outputs": [
    {
     "name": "stdout",
     "output_type": "stream",
     "text": [
      "Epoch 1/30\n",
      "665/665 [==============================] - ETA: 0s - loss: 1.3159 - accuracy: 0.8557\n",
      "Epoch 00001: val_accuracy improved from -inf to 0.85309, saving model to ./check_point/seq2seq_kr/weights.h5\n",
      "665/665 [==============================] - 165s 248ms/step - loss: 1.3159 - accuracy: 0.8557 - val_loss: 1.4926 - val_accuracy: 0.8531\n",
      "Epoch 2/30\n",
      "665/665 [==============================] - ETA: 0s - loss: 1.1467 - accuracy: 0.8532\n",
      "Epoch 00002: val_accuracy did not improve from 0.85309\n",
      "665/665 [==============================] - 159s 239ms/step - loss: 1.1467 - accuracy: 0.8532 - val_loss: 1.5353 - val_accuracy: 0.8530\n",
      "Epoch 3/30\n",
      "665/665 [==============================] - ETA: 0s - loss: 1.0913 - accuracy: 0.8534\n",
      "Epoch 00003: val_accuracy improved from 0.85309 to 0.85351, saving model to ./check_point/seq2seq_kr/weights.h5\n",
      "665/665 [==============================] - 160s 241ms/step - loss: 1.0913 - accuracy: 0.8534 - val_loss: 1.5789 - val_accuracy: 0.8535\n",
      "Epoch 4/30\n",
      "665/665 [==============================] - ETA: 0s - loss: 1.0490 - accuracy: 0.8538\n",
      "Epoch 00004: val_accuracy improved from 0.85351 to 0.85428, saving model to ./check_point/seq2seq_kr/weights.h5\n",
      "665/665 [==============================] - 2533s 4s/step - loss: 1.0490 - accuracy: 0.8538 - val_loss: 1.6108 - val_accuracy: 0.8543\n",
      "Epoch 5/30\n",
      "665/665 [==============================] - ETA: 0s - loss: 1.0051 - accuracy: 0.8547 \n",
      "Epoch 00005: val_accuracy improved from 0.85428 to 0.85524, saving model to ./check_point/seq2seq_kr/weights.h5\n",
      "665/665 [==============================] - 12073s 18s/step - loss: 1.0051 - accuracy: 0.8547 - val_loss: 1.6475 - val_accuracy: 0.8552\n",
      "Epoch 6/30\n",
      "665/665 [==============================] - ETA: 0s - loss: 0.9602 - accuracy: 0.8557\n",
      "Epoch 00006: val_accuracy improved from 0.85524 to 0.85623, saving model to ./check_point/seq2seq_kr/weights.h5\n",
      "665/665 [==============================] - 2457s 4s/step - loss: 0.9602 - accuracy: 0.8557 - val_loss: 1.6646 - val_accuracy: 0.8562\n",
      "Epoch 7/30\n",
      "665/665 [==============================] - ETA: 0s - loss: 0.9126 - accuracy: 0.8567\n",
      "Epoch 00007: val_accuracy improved from 0.85623 to 0.85721, saving model to ./check_point/seq2seq_kr/weights.h5\n",
      "665/665 [==============================] - 371s 557ms/step - loss: 0.9126 - accuracy: 0.8567 - val_loss: 1.7072 - val_accuracy: 0.8572\n",
      "Epoch 8/30\n",
      "665/665 [==============================] - ETA: 0s - loss: 0.8623 - accuracy: 0.8578\n",
      "Epoch 00008: val_accuracy improved from 0.85721 to 0.85822, saving model to ./check_point/seq2seq_kr/weights.h5\n",
      "665/665 [==============================] - 166s 250ms/step - loss: 0.8623 - accuracy: 0.8578 - val_loss: 1.7177 - val_accuracy: 0.8582\n",
      "Epoch 9/30\n",
      "665/665 [==============================] - ETA: 0s - loss: 0.8114 - accuracy: 0.8588\n",
      "Epoch 00009: val_accuracy improved from 0.85822 to 0.85932, saving model to ./check_point/seq2seq_kr/weights.h5\n",
      "665/665 [==============================] - 166s 250ms/step - loss: 0.8114 - accuracy: 0.8588 - val_loss: 1.7298 - val_accuracy: 0.8593\n",
      "Epoch 10/30\n",
      "665/665 [==============================] - ETA: 0s - loss: 0.7615 - accuracy: 0.8600\n",
      "Epoch 00010: val_accuracy improved from 0.85932 to 0.86052, saving model to ./check_point/seq2seq_kr/weights.h5\n",
      "665/665 [==============================] - 168s 252ms/step - loss: 0.7615 - accuracy: 0.8600 - val_loss: 1.7610 - val_accuracy: 0.8605\n",
      "Epoch 11/30\n",
      "665/665 [==============================] - ETA: 0s - loss: 0.7127 - accuracy: 0.8612\n",
      "Epoch 00011: val_accuracy improved from 0.86052 to 0.86182, saving model to ./check_point/seq2seq_kr/weights.h5\n",
      "665/665 [==============================] - 162s 243ms/step - loss: 0.7127 - accuracy: 0.8612 - val_loss: 1.7696 - val_accuracy: 0.8618\n",
      "Epoch 12/30\n",
      "665/665 [==============================] - ETA: 0s - loss: 0.6653 - accuracy: 0.8626\n",
      "Epoch 00012: val_accuracy improved from 0.86182 to 0.86326, saving model to ./check_point/seq2seq_kr/weights.h5\n",
      "665/665 [==============================] - 165s 248ms/step - loss: 0.6653 - accuracy: 0.8626 - val_loss: 1.7958 - val_accuracy: 0.8633\n",
      "Epoch 13/30\n",
      "665/665 [==============================] - ETA: 0s - loss: 0.6196 - accuracy: 0.8641\n",
      "Epoch 00013: val_accuracy improved from 0.86326 to 0.86483, saving model to ./check_point/seq2seq_kr/weights.h5\n",
      "665/665 [==============================] - 165s 249ms/step - loss: 0.6196 - accuracy: 0.8641 - val_loss: 1.8137 - val_accuracy: 0.8648\n",
      "Epoch 14/30\n",
      "665/665 [==============================] - ETA: 0s - loss: 0.5759 - accuracy: 0.8657\n",
      "Epoch 00014: val_accuracy improved from 0.86483 to 0.86650, saving model to ./check_point/seq2seq_kr/weights.h5\n",
      "665/665 [==============================] - 168s 253ms/step - loss: 0.5759 - accuracy: 0.8657 - val_loss: 1.8306 - val_accuracy: 0.8665\n",
      "Epoch 15/30\n",
      "665/665 [==============================] - ETA: 0s - loss: 0.5338 - accuracy: 0.8674\n",
      "Epoch 00015: val_accuracy improved from 0.86650 to 0.86830, saving model to ./check_point/seq2seq_kr/weights.h5\n",
      "665/665 [==============================] - 169s 254ms/step - loss: 0.5338 - accuracy: 0.8674 - val_loss: 1.8516 - val_accuracy: 0.8683\n",
      "Epoch 16/30\n",
      "665/665 [==============================] - ETA: 0s - loss: 0.4934 - accuracy: 0.8693\n",
      "Epoch 00016: val_accuracy improved from 0.86830 to 0.87020, saving model to ./check_point/seq2seq_kr/weights.h5\n",
      "665/665 [==============================] - 165s 248ms/step - loss: 0.4934 - accuracy: 0.8693 - val_loss: 1.8750 - val_accuracy: 0.8702\n",
      "Epoch 17/30\n",
      "665/665 [==============================] - ETA: 0s - loss: 0.4557 - accuracy: 0.8713\n",
      "Epoch 00017: val_accuracy improved from 0.87020 to 0.87220, saving model to ./check_point/seq2seq_kr/weights.h5\n",
      "665/665 [==============================] - 170s 256ms/step - loss: 0.4557 - accuracy: 0.8713 - val_loss: 1.8959 - val_accuracy: 0.8722\n",
      "Epoch 18/30\n",
      "665/665 [==============================] - ETA: 0s - loss: 0.4202 - accuracy: 0.8733\n",
      "Epoch 00018: val_accuracy improved from 0.87220 to 0.87428, saving model to ./check_point/seq2seq_kr/weights.h5\n",
      "665/665 [==============================] - 169s 255ms/step - loss: 0.4202 - accuracy: 0.8733 - val_loss: 1.9099 - val_accuracy: 0.8743\n",
      "Epoch 19/30\n",
      "665/665 [==============================] - ETA: 0s - loss: 0.3886 - accuracy: 0.8754\n",
      "Epoch 00019: val_accuracy improved from 0.87428 to 0.87640, saving model to ./check_point/seq2seq_kr/weights.h5\n",
      "665/665 [==============================] - 173s 260ms/step - loss: 0.3886 - accuracy: 0.8754 - val_loss: 1.9345 - val_accuracy: 0.8764\n",
      "Epoch 20/30\n",
      "665/665 [==============================] - ETA: 0s - loss: 0.3589 - accuracy: 0.8775\n",
      "Epoch 00020: val_accuracy improved from 0.87640 to 0.87856, saving model to ./check_point/seq2seq_kr/weights.h5\n",
      "665/665 [==============================] - 168s 253ms/step - loss: 0.3589 - accuracy: 0.8775 - val_loss: 1.9463 - val_accuracy: 0.8786\n",
      "Epoch 21/30\n",
      "665/665 [==============================] - ETA: 0s - loss: 0.3306 - accuracy: 0.8797\n",
      "Epoch 00021: val_accuracy improved from 0.87856 to 0.88074, saving model to ./check_point/seq2seq_kr/weights.h5\n",
      "665/665 [==============================] - 170s 255ms/step - loss: 0.3306 - accuracy: 0.8797 - val_loss: 1.9615 - val_accuracy: 0.8807\n",
      "Epoch 22/30\n",
      "665/665 [==============================] - ETA: 0s - loss: 0.3054 - accuracy: 0.8819\n",
      "Epoch 00022: val_accuracy improved from 0.88074 to 0.88293, saving model to ./check_point/seq2seq_kr/weights.h5\n",
      "665/665 [==============================] - 170s 256ms/step - loss: 0.3054 - accuracy: 0.8819 - val_loss: 1.9848 - val_accuracy: 0.8829\n",
      "Epoch 23/30\n",
      "665/665 [==============================] - ETA: 0s - loss: 0.2820 - accuracy: 0.8841\n",
      "Epoch 00023: val_accuracy improved from 0.88293 to 0.88510, saving model to ./check_point/seq2seq_kr/weights.h5\n",
      "665/665 [==============================] - 168s 253ms/step - loss: 0.2820 - accuracy: 0.8841 - val_loss: 1.9957 - val_accuracy: 0.8851\n",
      "Epoch 24/30\n",
      "665/665 [==============================] - ETA: 0s - loss: 0.2604 - accuracy: 0.8862\n",
      "Epoch 00024: val_accuracy improved from 0.88510 to 0.88725, saving model to ./check_point/seq2seq_kr/weights.h5\n",
      "665/665 [==============================] - 170s 255ms/step - loss: 0.2604 - accuracy: 0.8862 - val_loss: 2.0106 - val_accuracy: 0.8872\n",
      "Epoch 25/30\n"
     ]
    },
    {
     "name": "stdout",
     "output_type": "stream",
     "text": [
      "665/665 [==============================] - ETA: 0s - loss: 0.2409 - accuracy: 0.8884\n",
      "Epoch 00025: val_accuracy improved from 0.88725 to 0.88937, saving model to ./check_point/seq2seq_kr/weights.h5\n",
      "665/665 [==============================] - 164s 247ms/step - loss: 0.2409 - accuracy: 0.8884 - val_loss: 2.0308 - val_accuracy: 0.8894\n",
      "Epoch 26/30\n",
      "665/665 [==============================] - ETA: 0s - loss: 0.2225 - accuracy: 0.8905\n",
      "Epoch 00026: val_accuracy improved from 0.88937 to 0.89145, saving model to ./check_point/seq2seq_kr/weights.h5\n",
      "665/665 [==============================] - 166s 249ms/step - loss: 0.2225 - accuracy: 0.8905 - val_loss: 2.0408 - val_accuracy: 0.8914\n",
      "Epoch 27/30\n",
      "665/665 [==============================] - ETA: 0s - loss: 0.2048 - accuracy: 0.8925\n",
      "Epoch 00027: val_accuracy improved from 0.89145 to 0.89349, saving model to ./check_point/seq2seq_kr/weights.h5\n",
      "665/665 [==============================] - 173s 261ms/step - loss: 0.2048 - accuracy: 0.8925 - val_loss: 2.0661 - val_accuracy: 0.8935\n",
      "Epoch 28/30\n",
      "665/665 [==============================] - ETA: 0s - loss: 0.1895 - accuracy: 0.8945\n",
      "Epoch 00028: val_accuracy improved from 0.89349 to 0.89548, saving model to ./check_point/seq2seq_kr/weights.h5\n",
      "665/665 [==============================] - 175s 264ms/step - loss: 0.1895 - accuracy: 0.8945 - val_loss: 2.0800 - val_accuracy: 0.8955\n",
      "Epoch 29/30\n",
      "665/665 [==============================] - ETA: 0s - loss: 0.1759 - accuracy: 0.8965\n",
      "Epoch 00029: val_accuracy improved from 0.89548 to 0.89742, saving model to ./check_point/seq2seq_kr/weights.h5\n",
      "665/665 [==============================] - 177s 266ms/step - loss: 0.1759 - accuracy: 0.8965 - val_loss: 2.0978 - val_accuracy: 0.8974\n",
      "Epoch 30/30\n",
      "665/665 [==============================] - ETA: 0s - loss: 0.1623 - accuracy: 0.8984\n",
      "Epoch 00030: val_accuracy improved from 0.89742 to 0.89932, saving model to ./check_point/seq2seq_kr/weights.h5\n",
      "665/665 [==============================] - 172s 259ms/step - loss: 0.1623 - accuracy: 0.8984 - val_loss: 2.1103 - val_accuracy: 0.8993\n"
     ]
    }
   ],
   "source": [
    "# 모델 학습\n",
    "# 현재는 모델이 학습되는지를 빠른 시간 내 검증하기 위해 하이퍼파라미터 값을 조정하여 실행\n",
    "# 1epoch당 2:30 소요, 30epoch 시 accuracy: 0.8985\n",
    "history = model.fit([index_inputs, index_outputs], index_targets,\n",
    "                   batch_size=BATCH_SIZE, epochs=EPOCHS, validation_split=VALID_SPLIT,\n",
    "                   callbacks=[earlystop_callback, cp_callback])"
   ]
  },
  {
   "cell_type": "code",
   "execution_count": 14,
   "metadata": {},
   "outputs": [
    {
     "data": {
      "image/png": "[encoded data removed]",
      "text/plain": [
       "<Figure size 432x288 with 1 Axes>"
      ]
     },
     "metadata": {
      "needs_background": "light"
     },
     "output_type": "display_data"
    }
   ],
   "source": [
    "# Epoch에 따른 accuracy 그래프\n",
    "plot_graphs(history, 'accuracy')"
   ]
  },
  {
   "cell_type": "code",
   "execution_count": 15,
   "metadata": {},
   "outputs": [
    {
     "data": {
      "image/png": "[encoded data removed]",
      "text/plain": [
       "<Figure size 432x288 with 1 Axes>"
      ]
     },
     "metadata": {
      "needs_background": "light"
     },
     "output_type": "display_data"
    }
   ],
   "source": [
    "# Epoch에 따른 loss 그래프\n",
    "plot_graphs(history, 'loss')"
   ]
  },
  {
   "cell_type": "code",
   "execution_count": 16,
   "metadata": {},
   "outputs": [],
   "source": [
    "# 저장된 모델을 로딩\n",
    "SAVE_FILE_NAME = 'weights.h5'\n",
    "model.load_weights(os.path.join(DATA_OUT_PATH, MODEL_NAME, SAVE_FILE_NAME))"
   ]
  },
  {
   "cell_type": "code",
   "execution_count": null,
   "metadata": {},
   "outputs": [],
   "source": [
    "# 챗봇 예시 확인\n",
    "q = '남자친구 승진 선물로 뭐가 좋을까?'\n",
    "\n",
    "test_index_inputs, _ = enc_processing([q], char2idx)\n",
    "predict_tokens = model.inference(test_index_inputs)\n",
    "\n",
    "print(' '.join([char2word[t] for t in predict_tokens]))\n",
    "# 평소에 필요했던 게 좋을 것 같아요"
   ]
  }
 ],
 "metadata": {
  "kernelspec": {
   "display_name": "Python 3",
   "language": "python",
   "name": "python3"
  },
  "language_info": {
   "codemirror_mode": {
    "name": "ipython",
    "version": 3
   },
   "file_extension": ".py",
   "mimetype": "text/x-python",
   "name": "python",
   "nbconvert_exporter": "python",
   "pygments_lexer": "ipython3",
   "version": "3.8.3"
  }
 },
 "nbformat": 4,
 "nbformat_minor": 4
}
